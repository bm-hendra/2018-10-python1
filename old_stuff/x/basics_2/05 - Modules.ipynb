{
 "cells": [
  {
   "cell_type": "markdown",
   "metadata": {
    "toc": "true"
   },
   "source": [
    "# Table of Contents\n",
    " <p><div class=\"lev1 toc-item\"><a href=\"#file-can-be-run-as-a-script-or-module,-or-both\" data-toc-modified-id=\"file-can-be-run-as-a-script-or-module,-or-both-1\"><span class=\"toc-item-num\">1&nbsp;&nbsp;</span>file can be run as a script or module, or both</a></div><div class=\"lev1 toc-item\"><a href=\"#different-wayts-to-import\" data-toc-modified-id=\"different-wayts-to-import-2\"><span class=\"toc-item-num\">2&nbsp;&nbsp;</span>different wayts to import</a></div><div class=\"lev1 toc-item\"><a href=\"#packages\" data-toc-modified-id=\"packages-3\"><span class=\"toc-item-num\">3&nbsp;&nbsp;</span>packages</a></div><div class=\"lev1 toc-item\"><a href=\"#where-does-python-look-for-modules?\" data-toc-modified-id=\"where-does-python-look-for-modules?-4\"><span class=\"toc-item-num\">4&nbsp;&nbsp;</span>where does python look for modules?</a></div>"
   ]
  },
  {
   "cell_type": "code",
   "execution_count": 2,
   "metadata": {},
   "outputs": [],
   "source": [
    "# so far python interactively or simple scripts"
   ]
  },
  {
   "cell_type": "code",
   "execution_count": 3,
   "metadata": {},
   "outputs": [],
   "source": [
    "# common logic can be shared using modules"
   ]
  },
  {
   "cell_type": "code",
   "execution_count": 4,
   "metadata": {},
   "outputs": [],
   "source": [
    "# python .py files"
   ]
  },
  {
   "cell_type": "code",
   "execution_count": 5,
   "metadata": {},
   "outputs": [],
   "source": [
    "# ipython can be good to prototype functions\n",
    "# and logic\n",
    "# you can use a text editor, export the notebook, or spyder to\n",
    "# work on things at a module level"
   ]
  },
  {
   "cell_type": "code",
   "execution_count": 10,
   "metadata": {},
   "outputs": [
    {
     "name": "stdout",
     "output_type": "stream",
     "text": [
      "my_list: [1, 2, 3, 4, 5], my_e: 2.72\n"
     ]
    }
   ],
   "source": [
    "my_e = 2.718\n",
    "\n",
    "def my_sum(x, y):\n",
    "    return x + y\n",
    "\n",
    "my_list = [1, 2, 3, 4, 5]\n",
    "print('my_list: {}, my_e: {:3.2f}'.format(str(my_list), my_e))\n"
   ]
  },
  {
   "cell_type": "code",
   "execution_count": null,
   "metadata": {},
   "outputs": [],
   "source": [
    "# modules allow you to group related functions and classes\n",
    "# helps readability\n",
    "# turning code into libraries to be used elsewhere"
   ]
  },
  {
   "cell_type": "code",
   "execution_count": 11,
   "metadata": {},
   "outputs": [],
   "source": [
    "# copy above code into a .py file and run it in the python prompt"
   ]
  },
  {
   "cell_type": "code",
   "execution_count": 18,
   "metadata": {},
   "outputs": [],
   "source": [
    "%%bash\n",
    "echo \"my_e = 2.718\n",
    "\n",
    "def my_sum(x, y):\n",
    "    return x + y\n",
    "\n",
    "my_list = [1, 2, 3, 4, 5]\n",
    "print('my_list: {}, my_e: {:3.2f}'.format(str(my_list), my_e))\n",
    "\" >> my_script.py\n"
   ]
  },
  {
   "cell_type": "code",
   "execution_count": 19,
   "metadata": {},
   "outputs": [
    {
     "name": "stdout",
     "output_type": "stream",
     "text": [
      "01 - If statements.ipynb  02 - Loops.ipynb  03 - List comprehension.ipynb  04 - Functions.ipynb  05 - Modules.ipynb  my_script.py\r\n"
     ]
    }
   ],
   "source": [
    "ls"
   ]
  },
  {
   "cell_type": "code",
   "execution_count": 20,
   "metadata": {},
   "outputs": [
    {
     "name": "stdout",
     "output_type": "stream",
     "text": [
      "my_list: [1, 2, 3, 4, 5], my_e: 2.72\n"
     ]
    }
   ],
   "source": [
    "import my_script"
   ]
  },
  {
   "cell_type": "code",
   "execution_count": 22,
   "metadata": {},
   "outputs": [
    {
     "data": {
      "text/plain": [
       "7"
      ]
     },
     "execution_count": 22,
     "metadata": {},
     "output_type": "execute_result"
    }
   ],
   "source": [
    "my_script.my_sum(3, 4)"
   ]
  },
  {
   "cell_type": "code",
   "execution_count": 23,
   "metadata": {},
   "outputs": [
    {
     "data": {
      "text/plain": [
       "[1, 2, 3, 4, 5]"
      ]
     },
     "execution_count": 23,
     "metadata": {},
     "output_type": "execute_result"
    }
   ],
   "source": [
    "my_script.my_list"
   ]
  },
  {
   "cell_type": "code",
   "execution_count": 24,
   "metadata": {},
   "outputs": [],
   "source": [
    "# you can overwrite a module variable\n",
    "# but you shouldn't\n",
    "# monkey patching is bad,unless the module is made to do so"
   ]
  },
  {
   "cell_type": "code",
   "execution_count": 26,
   "metadata": {},
   "outputs": [
    {
     "name": "stdout",
     "output_type": "stream",
     "text": [
      "my_list: [1, 2, 3, 4, 5], my_e: 2.72\n"
     ]
    },
    {
     "data": {
      "text/plain": [
       "<module 'my_script' from '/home/dchen/git/forks/landerAnalytics/pythoncourse/material/basics_2/my_script.py'>"
      ]
     },
     "execution_count": 26,
     "metadata": {},
     "output_type": "execute_result"
    }
   ],
   "source": [
    "# to update an imported module\n",
    "# shutdown and restart ipython\n",
    "# use reload\n",
    "\n",
    "# reload(my_script) # python2\n",
    "\n",
    "# python 3\n",
    "import imp\n",
    "imp.reload(my_script)"
   ]
  },
  {
   "cell_type": "markdown",
   "metadata": {},
   "source": [
    "# file can be run as a script or module, or both"
   ]
  },
  {
   "cell_type": "code",
   "execution_count": 27,
   "metadata": {},
   "outputs": [],
   "source": [
    "# but you want different behavours"
   ]
  },
  {
   "cell_type": "code",
   "execution_count": 28,
   "metadata": {},
   "outputs": [],
   "source": [
    "# for a script you use the if __name__ == '__main__'"
   ]
  },
  {
   "cell_type": "code",
   "execution_count": 29,
   "metadata": {},
   "outputs": [],
   "source": [
    "# create a main() function"
   ]
  },
  {
   "cell_type": "code",
   "execution_count": 30,
   "metadata": {},
   "outputs": [],
   "source": [
    "# note how it does not execute when you load it\n",
    "# but it runs when you call it as a script"
   ]
  },
  {
   "cell_type": "markdown",
   "metadata": {},
   "source": [
    "# different wayts to import"
   ]
  },
  {
   "cell_type": "code",
   "execution_count": 31,
   "metadata": {},
   "outputs": [],
   "source": [
    "# import NAME"
   ]
  },
  {
   "cell_type": "code",
   "execution_count": 32,
   "metadata": {},
   "outputs": [],
   "source": [
    "# import NAME as ALIAS"
   ]
  },
  {
   "cell_type": "code",
   "execution_count": 33,
   "metadata": {},
   "outputs": [],
   "source": [
    "# from NAME import FUNC1, FUNC2"
   ]
  },
  {
   "cell_type": "code",
   "execution_count": 34,
   "metadata": {},
   "outputs": [],
   "source": [
    "# don't do this, it isn't pep-8\n",
    "# from NAME import *"
   ]
  },
  {
   "cell_type": "markdown",
   "metadata": {},
   "source": [
    "# packages"
   ]
  },
  {
   "cell_type": "code",
   "execution_count": 35,
   "metadata": {},
   "outputs": [],
   "source": [
    "# modules are the .py files"
   ]
  },
  {
   "cell_type": "code",
   "execution_count": 36,
   "metadata": {},
   "outputs": [],
   "source": [
    "# many packages are a collection of different modules"
   ]
  },
  {
   "cell_type": "code",
   "execution_count": 37,
   "metadata": {},
   "outputs": [],
   "source": [
    "# where each module is a related set of functions and/or classes"
   ]
  },
  {
   "cell_type": "code",
   "execution_count": 39,
   "metadata": {},
   "outputs": [],
   "source": [
    "# you can use a hierarchial directory structure\n",
    "# and use doted notation"
   ]
  },
  {
   "cell_type": "code",
   "execution_count": 40,
   "metadata": {},
   "outputs": [],
   "source": [
    "# each folder is called a package\n",
    "# each package needs to have a __init__.py file\n",
    "# this tells python that this is a package\n",
    "# it can be empty"
   ]
  },
  {
   "cell_type": "code",
   "execution_count": 42,
   "metadata": {},
   "outputs": [],
   "source": [
    "# python batteries included\n",
    "# https://docs.python.org/3/library/\n",
    "\n",
    "# regular expressions\n",
    "# sqlite3\n",
    "# gzip, bz2, zipfile, tarfile, for compression\n",
    "# csv\n",
    "# httplib, ftplib, poplib, socket, for standard internet protocols\n",
    "# pdb for the python debugger\n",
    "# profile, cProfile, timeit, python profilers\n",
    "# mmap, memory mapped files\n",
    "# multiprocessing, 'threading'\n",
    "# datetime, decimal, fraction, math, cmath"
   ]
  },
  {
   "cell_type": "code",
   "execution_count": 43,
   "metadata": {},
   "outputs": [],
   "source": [
    "# os, os.path, shutil # python2-3 have differences"
   ]
  },
  {
   "cell_type": "markdown",
   "metadata": {},
   "source": [
    "# where does python look for modules?"
   ]
  },
  {
   "cell_type": "markdown",
   "metadata": {},
   "source": [
    "PYTHONPATH\n",
    "\n",
    "anaconda will prepend the path for you"
   ]
  },
  {
   "cell_type": "code",
   "execution_count": null,
   "metadata": {},
   "outputs": [],
   "source": []
  }
 ],
 "metadata": {
  "kernelspec": {
   "display_name": "Python 3",
   "language": "python",
   "name": "python3"
  },
  "language_info": {
   "codemirror_mode": {
    "name": "ipython",
    "version": 3
   },
   "file_extension": ".py",
   "mimetype": "text/x-python",
   "name": "python",
   "nbconvert_exporter": "python",
   "pygments_lexer": "ipython3",
   "version": "3.6.2"
  },
  "toc": {
   "colors": {
    "hover_highlight": "#DAA520",
    "navigate_num": "#000000",
    "navigate_text": "#333333",
    "running_highlight": "#FF0000",
    "selected_highlight": "#FFD700",
    "sidebar_border": "#EEEEEE",
    "wrapper_background": "#FFFFFF"
   },
   "moveMenuLeft": true,
   "nav_menu": {
    "height": "95px",
    "width": "252px"
   },
   "navigate_menu": true,
   "number_sections": true,
   "sideBar": true,
   "threshold": 4,
   "toc_cell": true,
   "toc_section_display": "block",
   "toc_window_display": true,
   "widenNotebook": false
  }
 },
 "nbformat": 4,
 "nbformat_minor": 1
}
