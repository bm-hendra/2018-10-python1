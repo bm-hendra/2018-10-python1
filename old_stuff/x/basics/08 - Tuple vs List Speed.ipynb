{
 "cells": [
  {
   "cell_type": "markdown",
   "metadata": {
    "toc": "true"
   },
   "source": [
    "# Table of Contents\n",
    " <p>"
   ]
  },
  {
   "cell_type": "code",
   "execution_count": null,
   "metadata": {},
   "outputs": [],
   "source": [
    "# 5 mins\n",
    "# there is a nice ipython function called '%timeit'\n",
    "# it lets you time things"
   ]
  },
  {
   "cell_type": "code",
   "execution_count": 3,
   "metadata": {},
   "outputs": [
    {
     "name": "stdout",
     "output_type": "stream",
     "text": [
      "10000000 loops, best of 3: 184 ns per loop\n",
      "100000000 loops, best of 3: 12.6 ns per loop\n"
     ]
    }
   ],
   "source": [
    "%timeit [1, 2, 3, 4, 5, 6, 7, 8, 9, 10, 11, 12, 13, 14, 15, 16, 17, 18, 19, 20, 21, 22, 23, 24, 25] #list\n",
    "%timeit (1, 2, 3, 4, 5, 6, 7, 8, 9, 10, 11, 12, 13, 14, 15, 16, 17, 18, 19, 20, 21, 22, 23, 24, 25) #tuple\n",
    "\n",
    "# using long tuples because python will casche tuples < 20"
   ]
  },
  {
   "cell_type": "code",
   "execution_count": 24,
   "metadata": {},
   "outputs": [],
   "source": [
    "# iteration and conversion time for lists and tuples\n",
    "# not a factor of 10, but a factor of 2\n",
    "def rand(num_elements, num_rows):\n",
    "    values = []\n",
    "    for row in range(num_rows):\n",
    "        row_value = list(range(num_elements))\n",
    "        values.append(row_value)\n",
    "    return values"
   ]
  },
  {
   "cell_type": "code",
   "execution_count": 25,
   "metadata": {},
   "outputs": [
    {
     "data": {
      "text/plain": [
       "[[0, 1, 2, 3, 4, 5, 6, 7, 8, 9],\n",
       " [0, 1, 2, 3, 4, 5, 6, 7, 8, 9],\n",
       " [0, 1, 2, 3, 4, 5, 6, 7, 8, 9],\n",
       " [0, 1, 2, 3, 4, 5, 6, 7, 8, 9]]"
      ]
     },
     "execution_count": 25,
     "metadata": {},
     "output_type": "execute_result"
    }
   ],
   "source": [
    "test = rand(10, 4)\n",
    "test"
   ]
  },
  {
   "cell_type": "code",
   "execution_count": 26,
   "metadata": {},
   "outputs": [
    {
     "name": "stdout",
     "output_type": "stream",
     "text": [
      "10000 loops, best of 3: 152 µs per loop\n",
      "1000000 loops, best of 3: 706 ns per loop\n"
     ]
    }
   ],
   "source": [
    "values = rand(10000, 4)\n",
    "\n",
    "lst = [list(row) for row in values]\n",
    "tup = (tuple(tuple(row) for row in values))\n",
    "\n",
    "%timeit for row in lst: list(row)\n",
    "%timeit for row in tup: tuple(row)tuple"
   ]
  },
  {
   "cell_type": "code",
   "execution_count": 29,
   "metadata": {},
   "outputs": [
    {
     "name": "stdout",
     "output_type": "stream",
     "text": [
      "100 loops, best of 3: 10.6 ms per loop\n",
      "10000000 loops, best of 3: 128 ns per loop\n"
     ]
    }
   ],
   "source": [
    "lst = list(range(1000000))\n",
    "tup = tuple(range(1000000))\n",
    "\n",
    "%timeit list(lst)\n",
    "%timeit tuple(tup)"
   ]
  },
  {
   "cell_type": "code",
   "execution_count": 27,
   "metadata": {},
   "outputs": [
    {
     "name": "stdout",
     "output_type": "stream",
     "text": [
      "1000000 loops, best of 3: 295 ns per loop\n",
      "1000000 loops, best of 3: 292 ns per loop\n"
     ]
    }
   ],
   "source": [
    "%timeit for row in lst: a = row[0] + 1\n",
    "%timeit for row in tup: a = row[0] + 1"
   ]
  },
  {
   "cell_type": "code",
   "execution_count": null,
   "metadata": {},
   "outputs": [],
   "source": [
    "# iteration and indexing time for lists and tuples\n",
    "# almost the same"
   ]
  },
  {
   "cell_type": "code",
   "execution_count": null,
   "metadata": {},
   "outputs": [],
   "source": [
    "# reading rows out of a db, use a tuple\n",
    "# where rows are the people\n",
    "# databases are large, so this will be faster"
   ]
  },
  {
   "cell_type": "code",
   "execution_count": null,
   "metadata": {},
   "outputs": [],
   "source": [
    "# lists have a lot more methods\n",
    "# so they are much more useful when building applications for people\n",
    "# most of the time you will use a list\n",
    "# for its flexability"
   ]
  },
  {
   "cell_type": "code",
   "execution_count": 7,
   "metadata": {},
   "outputs": [
    {
     "data": {
      "text/plain": [
       "0.6417571597540915"
      ]
     },
     "execution_count": 7,
     "metadata": {},
     "output_type": "execute_result"
    }
   ],
   "source": []
  },
  {
   "cell_type": "code",
   "execution_count": 28,
   "metadata": {},
   "outputs": [
    {
     "name": "stdout",
     "output_type": "stream",
     "text": [
      "list:\n",
      "  2           0 LOAD_CONST               1 (1)\n",
      "              3 LOAD_CONST               2 (2)\n",
      "              6 LOAD_CONST               3 (3)\n",
      "              9 LOAD_CONST               4 (4)\n",
      "             12 LOAD_CONST               5 (5)\n",
      "             15 BUILD_LIST               5\n",
      "             18 STORE_FAST               0 (x)\n",
      "\n",
      "  3          21 LOAD_FAST                0 (x)\n",
      "             24 LOAD_CONST               6 (0)\n",
      "             27 BINARY_SUBSCR\n",
      "             28 STORE_FAST               1 (b)\n",
      "             31 LOAD_CONST               0 (None)\n",
      "             34 RETURN_VALUE\n",
      "tuple:\n",
      "  6           0 LOAD_CONST               7 ((1, 2, 3, 4, 5))\n",
      "              3 STORE_FAST               0 (x)\n",
      "\n",
      "  7           6 LOAD_FAST                0 (x)\n",
      "              9 LOAD_CONST               6 (0)\n",
      "             12 BINARY_SUBSCR\n",
      "             13 STORE_FAST               1 (b)\n",
      "             16 LOAD_CONST               0 (None)\n",
      "             19 RETURN_VALUE\n"
     ]
    }
   ],
   "source": [
    "def list_func():\n",
    "    x = [1, 2, 3, 4, 5]\n",
    "    b = x[0]\n",
    "\n",
    "def tuple_func():\n",
    "    x = (1, 2, 3, 4, 5)\n",
    "    b = x[0]\n",
    "\n",
    "import dis\n",
    "print('list:')\n",
    "dis.dis(list_func)\n",
    "\n",
    "print('tuple:')\n",
    "dis.dis(tuple_func)"
   ]
  },
  {
   "cell_type": "code",
   "execution_count": null,
   "metadata": {},
   "outputs": [],
   "source": []
  }
 ],
 "metadata": {
  "kernelspec": {
   "display_name": "Python 3",
   "language": "python",
   "name": "python3"
  },
  "language_info": {
   "codemirror_mode": {
    "name": "ipython",
    "version": 3
   },
   "file_extension": ".py",
   "mimetype": "text/x-python",
   "name": "python",
   "nbconvert_exporter": "python",
   "pygments_lexer": "ipython3",
   "version": "3.6.2"
  },
  "toc": {
   "colors": {
    "hover_highlight": "#DAA520",
    "navigate_num": "#000000",
    "navigate_text": "#333333",
    "running_highlight": "#FF0000",
    "selected_highlight": "#FFD700",
    "sidebar_border": "#EEEEEE",
    "wrapper_background": "#FFFFFF"
   },
   "moveMenuLeft": true,
   "nav_menu": {
    "height": "12px",
    "width": "252px"
   },
   "navigate_menu": true,
   "number_sections": true,
   "sideBar": true,
   "threshold": 4,
   "toc_cell": true,
   "toc_section_display": "block",
   "toc_window_display": true,
   "widenNotebook": false
  }
 },
 "nbformat": 4,
 "nbformat_minor": 1
}
