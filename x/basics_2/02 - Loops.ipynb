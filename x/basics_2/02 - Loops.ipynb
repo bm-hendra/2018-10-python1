{
 "cells": [
  {
   "cell_type": "markdown",
   "metadata": {
    "toc": "true"
   },
   "source": [
    "# Table of Contents\n",
    " <p><div class=\"lev1 toc-item\"><a href=\"#While-loop\" data-toc-modified-id=\"While-loop-1\"><span class=\"toc-item-num\">1&nbsp;&nbsp;</span>While loop</a></div><div class=\"lev1 toc-item\"><a href=\"#For-loop\" data-toc-modified-id=\"For-loop-2\"><span class=\"toc-item-num\">2&nbsp;&nbsp;</span>For loop</a></div><div class=\"lev1 toc-item\"><a href=\"#break-statements\" data-toc-modified-id=\"break-statements-3\"><span class=\"toc-item-num\">3&nbsp;&nbsp;</span>break statements</a></div><div class=\"lev1 toc-item\"><a href=\"#continute-statements\" data-toc-modified-id=\"continute-statements-4\"><span class=\"toc-item-num\">4&nbsp;&nbsp;</span>continute statements</a></div>"
   ]
  },
  {
   "cell_type": "code",
   "execution_count": null,
   "metadata": {},
   "outputs": [],
   "source": [
    "# computers are really good at repeating things\n",
    "# when you start to copy paste things...\n",
    "# stop and think"
   ]
  },
  {
   "cell_type": "markdown",
   "metadata": {},
   "source": [
    "# While loop"
   ]
  },
  {
   "cell_type": "code",
   "execution_count": 1,
   "metadata": {},
   "outputs": [],
   "source": [
    "# like an if statement\n",
    "# evaluates a True/False condition\n",
    "# if it is true it will evaluate code\n",
    "# it will keep doing this until the test evaluates false\n",
    "# then it will execute the next block of code after the while loop"
   ]
  },
  {
   "cell_type": "code",
   "execution_count": 5,
   "metadata": {},
   "outputs": [
    {
     "name": "stdout",
     "output_type": "stream",
     "text": [
      "[0, 1, 2, 3, 4]\n",
      "0\n",
      "[1, 2, 3, 4]\n",
      "1\n",
      "[2, 3, 4]\n",
      "2\n",
      "[3, 4]\n",
      "3\n",
      "[4]\n",
      "4\n"
     ]
    }
   ],
   "source": [
    "lst = list(range(5))\n",
    "while len(lst) > 0:\n",
    "    print(lst)\n",
    "    print(lst.pop(0))"
   ]
  },
  {
   "cell_type": "code",
   "execution_count": 10,
   "metadata": {},
   "outputs": [
    {
     "name": "stdout",
     "output_type": "stream",
     "text": [
      "0\n",
      "1\n",
      "2\n",
      "3\n",
      "4\n"
     ]
    }
   ],
   "source": [
    "i = 0\n",
    "while True:\n",
    "    if i < 5:\n",
    "        print(i)\n",
    "    else:\n",
    "        break\n",
    "    i += 1"
   ]
  },
  {
   "cell_type": "markdown",
   "metadata": {},
   "source": [
    "# For loop"
   ]
  },
  {
   "cell_type": "code",
   "execution_count": null,
   "metadata": {},
   "outputs": [],
   "source": [
    "# loop over sequences/ containers"
   ]
  },
  {
   "cell_type": "code",
   "execution_count": 12,
   "metadata": {},
   "outputs": [],
   "source": [
    "# for loop_variable in sequence:\n",
    "#     statements"
   ]
  },
  {
   "cell_type": "code",
   "execution_count": 14,
   "metadata": {},
   "outputs": [
    {
     "name": "stdout",
     "output_type": "stream",
     "text": [
      "0\n",
      "1\n",
      "2\n",
      "3\n",
      "4\n"
     ]
    }
   ],
   "source": [
    "for i in range(5):\n",
    "    print(i)"
   ]
  },
  {
   "cell_type": "code",
   "execution_count": 15,
   "metadata": {},
   "outputs": [
    {
     "name": "stdout",
     "output_type": "stream",
     "text": [
      "0\n",
      "1\n",
      "2\n",
      "3\n",
      "4\n"
     ]
    }
   ],
   "source": [
    "# for loops should not try to modify the sequence\n",
    "# it is trying to loop over\n",
    "for i in list(range(5)):\n",
    "    print(i)\n",
    "# xrange statement in python 2 does what range() now does in python3"
   ]
  },
  {
   "cell_type": "markdown",
   "metadata": {},
   "source": [
    "# break statements"
   ]
  },
  {
   "cell_type": "code",
   "execution_count": null,
   "metadata": {},
   "outputs": [],
   "source": [
    "# if an execution hits a streak statement, it will exit out of the\n",
    "# current loop\n",
    "# good for exiting at some exit point\n",
    "# or some catastrophic value"
   ]
  },
  {
   "cell_type": "code",
   "execution_count": 17,
   "metadata": {},
   "outputs": [
    {
     "name": "stdout",
     "output_type": "stream",
     "text": [
      "s\n",
      "p\n",
      "p\n",
      "p\n",
      "p\n"
     ]
    }
   ],
   "source": [
    "commands = ['s', 'p', 'p', 'p', 'p', 'stop']\n",
    "while commands: # or len(commands > 0)\n",
    "    command = commands.pop(0)\n",
    "    if command == 'stop':\n",
    "        break\n",
    "    else:\n",
    "        print(command)"
   ]
  },
  {
   "cell_type": "markdown",
   "metadata": {},
   "source": [
    "# continute statements"
   ]
  },
  {
   "cell_type": "code",
   "execution_count": null,
   "metadata": {},
   "outputs": [],
   "source": [
    "# when it hits a continue statment\n",
    "# it will immediately go back to the next loop iteration\n",
    "# skip occasional values"
   ]
  },
  {
   "cell_type": "code",
   "execution_count": 16,
   "metadata": {},
   "outputs": [
    {
     "name": "stdout",
     "output_type": "stream",
     "text": [
      "0\n",
      "2\n",
      "4\n",
      "6\n",
      "8\n"
     ]
    }
   ],
   "source": [
    "for i in range(10):\n",
    "    if i % 2 == 0:\n",
    "        print(i)\n",
    "    else:\n",
    "        continue"
   ]
  },
  {
   "cell_type": "code",
   "execution_count": 18,
   "metadata": {},
   "outputs": [
    {
     "name": "stdout",
     "output_type": "stream",
     "text": [
      "s\n",
      "p\n",
      "p\n",
      "p\n",
      "p\n"
     ]
    }
   ],
   "source": [
    "commands = ['s', 'p', 'p', 'p', 'p', 'stop']\n",
    "command = commands.pop(0)\n",
    "while command != 'stop':\n",
    "    print(command)\n",
    "    command = commands.pop(0)"
   ]
  },
  {
   "cell_type": "code",
   "execution_count": null,
   "metadata": {},
   "outputs": [],
   "source": [
    "# if, else, continue, break\n",
    "# add to code readability"
   ]
  }
 ],
 "metadata": {
  "kernelspec": {
   "display_name": "Python 3",
   "language": "python",
   "name": "python3"
  },
  "language_info": {
   "codemirror_mode": {
    "name": "ipython",
    "version": 3
   },
   "file_extension": ".py",
   "mimetype": "text/x-python",
   "name": "python",
   "nbconvert_exporter": "python",
   "pygments_lexer": "ipython3",
   "version": "3.6.2"
  },
  "toc": {
   "colors": {
    "hover_highlight": "#DAA520",
    "navigate_num": "#000000",
    "navigate_text": "#333333",
    "running_highlight": "#FF0000",
    "selected_highlight": "#FFD700",
    "sidebar_border": "#EEEEEE",
    "wrapper_background": "#FFFFFF"
   },
   "moveMenuLeft": true,
   "nav_menu": {
    "height": "86px",
    "width": "252px"
   },
   "navigate_menu": true,
   "number_sections": true,
   "sideBar": true,
   "threshold": 4,
   "toc_cell": true,
   "toc_section_display": "block",
   "toc_window_display": true,
   "widenNotebook": false
  }
 },
 "nbformat": 4,
 "nbformat_minor": 1
}
