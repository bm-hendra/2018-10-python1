{
 "cells": [
  {
   "cell_type": "markdown",
   "metadata": {
    "toc": "true"
   },
   "source": [
    "# Table of Contents\n",
    " <p>"
   ]
  },
  {
   "cell_type": "code",
   "execution_count": null,
   "metadata": {},
   "outputs": [],
   "source": [
    "# write data out into files\n",
    "# make output pretty\n",
    "# write less hacky code"
   ]
  },
  {
   "cell_type": "code",
   "execution_count": null,
   "metadata": {},
   "outputs": [],
   "source": [
    "# http://www.python-course.eu/python3_formatted_output.php"
   ]
  },
  {
   "cell_type": "code",
   "execution_count": 2,
   "metadata": {},
   "outputs": [
    {
     "name": "stdout",
     "output_type": "stream",
     "text": [
      "hello everyone how are you\n"
     ]
    }
   ],
   "source": [
    "print('{} {} {}'.format('hello', 'everyone', 'how are you'))"
   ]
  },
  {
   "cell_type": "code",
   "execution_count": 3,
   "metadata": {},
   "outputs": [
    {
     "name": "stdout",
     "output_type": "stream",
     "text": [
      "how are you everyone hello\n"
     ]
    }
   ],
   "source": [
    "print('{2} {1} {0}'.format('hello', 'everyone', 'how are you'))"
   ]
  },
  {
   "cell_type": "code",
   "execution_count": 7,
   "metadata": {},
   "outputs": [
    {
     "name": "stdout",
     "output_type": "stream",
     "text": [
      "hello everyone how are you\n"
     ]
    }
   ],
   "source": [
    "print('{intro} {who} {greet}'.\\\n",
    "      format(intro='hello',\n",
    "             who='everyone',\n",
    "             greet='how are you'))"
   ]
  },
  {
   "cell_type": "code",
   "execution_count": 18,
   "metadata": {},
   "outputs": [
    {
     "name": "stdout",
     "output_type": "stream",
     "text": [
      "hello everyone how are you\n"
     ]
    }
   ],
   "source": [
    "print('{intro} {0} {greet}'\\\n",
    "      .format('everyone',\n",
    "             intro='hello',\n",
    "             greet='how are you'))\n",
    "# python makes you put the kwargs after the args\n",
    "# don't do this..."
   ]
  },
  {
   "cell_type": "code",
   "execution_count": 21,
   "metadata": {},
   "outputs": [
    {
     "name": "stdout",
     "output_type": "stream",
     "text": [
      "foo                14       2.72\n"
     ]
    }
   ],
   "source": [
    "print('{0:10} {1:10d} {c:10.2f}'.format('foo', 14, c=2.7182818))"
   ]
  },
  {
   "cell_type": "code",
   "execution_count": null,
   "metadata": {},
   "outputs": [],
   "source": [
    "# in the {field_name: format_spec} replacement field\n",
    "# thiere is an optional argement caleld a format_spec"
   ]
  },
  {
   "cell_type": "code",
   "execution_count": null,
   "metadata": {},
   "outputs": [],
   "source": [
    "# you can have alignment optons\n",
    "# <, >, =, ^\n",
    "\n",
    "# signs on numbers +/-\n",
    "# +, both\n",
    "# -, default, neg nums only\n",
    "# space, include leading space for positive numbers\n",
    "\n",
    "# string type codees\n",
    "# s\n",
    "\n",
    "# integer type codes\n",
    "# b, binary\n",
    "# c, unicode char\n",
    "# d, decimal int base 10\n",
    "# o, octal\n",
    "# x, hex, lower\n",
    "# X, hex, upper\n",
    "# n, number, same as d, but uses current locale?\n",
    "# none, same as 'd'\n",
    "\n",
    "# float\n",
    "# e, scientific notation\n",
    "# E, e, but upper\n",
    "# f, fixed point\n",
    "# F, fixed point, same as 'f'\n",
    "# g, general format\n",
    "# G, 'g', with upper case 'E\" when necessary\n",
    "# n, number, same as 'g' but uses locale\n",
    "# %, multiplies by 100 and displaces with 'f' with % sign\n",
    "# none, 'g'\n",
    "\n",
    "# very similar to printf in C\n",
    "# and sprintf in R\n",
    "# https://docs.python.org/3.3/library/string.html"
   ]
  },
  {
   "cell_type": "code",
   "execution_count": 35,
   "metadata": {},
   "outputs": [
    {
     "name": "stdout",
     "output_type": "stream",
     "text": [
      "333      333.1 333.14\n"
     ]
    }
   ],
   "source": [
    "# more advanced print formatting\n",
    "print('{x:3.0f} {x:10.1f} {x:3.2f}'.format(x=333.14159))"
   ]
  },
  {
   "cell_type": "code",
   "execution_count": 36,
   "metadata": {},
   "outputs": [
    {
     "data": {
      "text/plain": [
       "'3.140000 -3.140000'"
      ]
     },
     "execution_count": 36,
     "metadata": {},
     "output_type": "execute_result"
    }
   ],
   "source": [
    "'{:-f} {:-f}'.format(3.14, -3.14)"
   ]
  },
  {
   "cell_type": "code",
   "execution_count": 38,
   "metadata": {},
   "outputs": [
    {
     "data": {
      "text/plain": [
       "'+3.140000 -3.140000'"
      ]
     },
     "execution_count": 38,
     "metadata": {},
     "output_type": "execute_result"
    }
   ],
   "source": [
    "'{:+f} {:+f}'.format(3.14, -3.14)\n",
    "# nice for geting numbers aligned"
   ]
  },
  {
   "cell_type": "code",
   "execution_count": 39,
   "metadata": {},
   "outputs": [
    {
     "data": {
      "text/plain": [
       "' 3.140000 -3.140000'"
      ]
     },
     "execution_count": 39,
     "metadata": {},
     "output_type": "execute_result"
    }
   ],
   "source": [
    "'{: f} {: f}'.format(3.14, -3.14)\n",
    "# nice for geting numbers aligned"
   ]
  },
  {
   "cell_type": "code",
   "execution_count": 42,
   "metadata": {},
   "outputs": [
    {
     "data": {
      "text/plain": [
       "'|hello     | |**hello***| |     hello|'"
      ]
     },
     "execution_count": 42,
     "metadata": {},
     "output_type": "execute_result"
    }
   ],
   "source": [
    "'|{0:<10s}| |{0:*^10s}| |{0:>10s}|'.format('hello')"
   ]
  },
  {
   "cell_type": "code",
   "execution_count": 49,
   "metadata": {},
   "outputs": [
    {
     "data": {
      "text/plain": [
       "'1234 4D2 4d2 2322 10011010010'"
      ]
     },
     "execution_count": 49,
     "metadata": {},
     "output_type": "execute_result"
    }
   ],
   "source": [
    "'{0:d} {0:X} {0:x} {0:o} {0:b}'.format(1234)"
   ]
  },
  {
   "cell_type": "code",
   "execution_count": 50,
   "metadata": {},
   "outputs": [],
   "source": [
    "# older format"
   ]
  },
  {
   "cell_type": "code",
   "execution_count": 52,
   "metadata": {},
   "outputs": [
    {
     "data": {
      "text/plain": [
       "'hello 3.140000 13'"
      ]
     },
     "execution_count": 52,
     "metadata": {},
     "output_type": "execute_result"
    }
   ],
   "source": [
    "'%s %f %d' % ('hello', 3.14, 13)"
   ]
  },
  {
   "cell_type": "code",
   "execution_count": null,
   "metadata": {},
   "outputs": [],
   "source": []
  }
 ],
 "metadata": {
  "kernelspec": {
   "display_name": "Python 3",
   "language": "python",
   "name": "python3"
  },
  "language_info": {
   "codemirror_mode": {
    "name": "ipython",
    "version": 3
   },
   "file_extension": ".py",
   "mimetype": "text/x-python",
   "name": "python",
   "nbconvert_exporter": "python",
   "pygments_lexer": "ipython3",
   "version": "3.6.2"
  },
  "toc": {
   "colors": {
    "hover_highlight": "#DAA520",
    "navigate_num": "#000000",
    "navigate_text": "#333333",
    "running_highlight": "#FF0000",
    "selected_highlight": "#FFD700",
    "sidebar_border": "#EEEEEE",
    "wrapper_background": "#FFFFFF"
   },
   "moveMenuLeft": true,
   "nav_menu": {
    "height": "12px",
    "width": "252px"
   },
   "navigate_menu": true,
   "number_sections": true,
   "sideBar": true,
   "threshold": 4,
   "toc_cell": true,
   "toc_section_display": "block",
   "toc_window_display": true,
   "widenNotebook": false
  }
 },
 "nbformat": 4,
 "nbformat_minor": 1
}
